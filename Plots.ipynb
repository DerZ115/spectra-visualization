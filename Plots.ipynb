{
 "cells": [
  {
   "cell_type": "code",
   "execution_count": 37,
   "id": "rapid-herald",
   "metadata": {},
   "outputs": [],
   "source": [
    "import numpy as np\n",
    "import matplotlib.pyplot as plt\n",
    "import matplotlib.cm as cm\n",
    "import os"
   ]
  },
  {
   "cell_type": "code",
   "execution_count": 38,
   "id": "cooked-supplier",
   "metadata": {},
   "outputs": [],
   "source": [
    "def file_len(path):\n",
    "    with open(path) as file:\n",
    "        i = 0\n",
    "        for i, line in enumerate(file, 1):\n",
    "            pass\n",
    "        return i\n",
    "\n",
    "def import_file(path, limit_low=None, limit_high=None):\n",
    "\n",
    "    spectrum = np.genfromtxt(path, delimiter=\",\")\n",
    "    spectrum = np.transpose(spectrum)\n",
    "    wavenumbers = spectrum[0]\n",
    "    intensities = spectrum[1]\n",
    "\n",
    "    if limit_low is not None:\n",
    "        limit_low_index = list(wavenumbers).index(limit_low)\n",
    "    else:\n",
    "        limit_low_index = 0\n",
    "        limit_low = wavenumbers[0]\n",
    "\n",
    "    if limit_high is not None:\n",
    "        limit_high_index = list(wavenumbers).index(limit_high)\n",
    "    else:\n",
    "        limit_high_index = len(wavenumbers)\n",
    "        limit_high = wavenumbers[-1]\n",
    "\n",
    "    wavenumbers = wavenumbers[limit_low_index:limit_high_index]\n",
    "    intensities = intensities[limit_low_index:limit_high_index]\n",
    "    return wavenumbers, intensities\n",
    "\n",
    "def import_directory(path, limit_low=None, limit_high=None):\n",
    "    if not path.endswith(\"/\"):\n",
    "        path = path + \"/\"\n",
    "    \n",
    "    files = os.listdir(path)\n",
    "    \n",
    "    # get number of lines in files (must be equal) and initialize arrays\n",
    "    wavenumbers = []\n",
    "    intensities = []\n",
    "        \n",
    "    for file in files:\n",
    "        wns, ints = import_file(path + file, limit_low, limit_high)\n",
    "        wavenumbers.append(wns)\n",
    "        intensities.append(ints)\n",
    "    return np.array(wavenumbers), np.array(intensities)"
   ]
  },
  {
   "cell_type": "code",
   "execution_count": 39,
   "id": "mighty-bryan",
   "metadata": {},
   "outputs": [],
   "source": [
    "wavenumbers, intensities = import_directory(\"NP_spectra/\")"
   ]
  },
  {
   "cell_type": "code",
   "execution_count": 40,
   "id": "owned-reference",
   "metadata": {},
   "outputs": [],
   "source": [
    "wavenumbers1 = wavenumbers[:5]\n",
    "intensities1 = intensities[:5]\n",
    "\n",
    "wavenumbers2 = wavenumbers[5:]\n",
    "intensities2 = intensities[5:]"
   ]
  },
  {
   "cell_type": "code",
   "execution_count": 41,
   "id": "academic-pound",
   "metadata": {},
   "outputs": [],
   "source": [
    "colors_values = np.linspace(0, 1, len(wavenumbers1))\n",
    "colors = [cm.rainbow(x) for x in colors_values]"
   ]
  },
  {
   "cell_type": "code",
   "execution_count": 42,
   "id": "distinguished-original",
   "metadata": {},
   "outputs": [
    {
     "name": "stdout",
     "output_type": "stream",
     "text": [
      "Using matplotlib backend: Qt5Agg\n"
     ]
    },
    {
     "data": {
      "text/plain": [
       "Text(0.5, 1.0, 'Nanopartikeln - 30 uL Zellen + 30 uL NP')"
      ]
     },
     "execution_count": 42,
     "metadata": {},
     "output_type": "execute_result"
    }
   ],
   "source": [
    "%matplotlib\n",
    "###########################################################\n",
    "# Plot 1 - 70 uL Zellen - trocknen - 40 uL NPs - trocknen #\n",
    "###########################################################\n",
    "\n",
    "fig1, ax1 = plt.subplots()\n",
    "\n",
    "for i in range(len(wavenumbers1)):\n",
    "    ax1.plot(wavenumbers1[i], intensities1[i], color=colors[i], linewidth=1)\n",
    "ax1.set_xlim(wavenumbers1[0,0], wavenumbers1[0,-1])\n",
    "ax1.invert_xaxis()\n",
    "ax1.grid()\n",
    "\n",
    "ax1.legend([\"Ag Methode 1\", \"Ag Methode 2\", \"Au Methode FH\", \"Au Ascorb.-sre/Saccharose\", \"Au Ascorb.sre/HEPES\"])\n",
    "ax1.set_title(\"Nanopartikeln - 70 uL Zellen + 40 uL NP\")\n",
    "\n",
    "################################################\n",
    "# Plot 2 - 30 uL Zellen + 30 uL NPs - trocknen #\n",
    "################################################\n",
    "\n",
    "fig2, ax2 = plt.subplots()\n",
    "\n",
    "for i in range(len(wavenumbers1)):\n",
    "    ax2.plot(wavenumbers2[i], intensities2[i], color=colors[i], linewidth=1)\n",
    "ax2.set_xlim(wavenumbers2[0,0], wavenumbers2[0,-1])\n",
    "ax2.invert_xaxis()\n",
    "ax2.grid()\n",
    "\n",
    "ax2.legend([\"Ag Methode 1\", \"Ag Methode 2\", \"Au Methode FH\", \"Au Ascorb.-sre/Saccharose\", \"Au Ascorb.-sre/HEPES\"])\n",
    "ax2.set_title(\"Nanopartikeln - 30 uL Zellen + 30 uL NP\")"
   ]
  },
  {
   "cell_type": "code",
   "execution_count": null,
   "id": "connected-carter",
   "metadata": {},
   "outputs": [],
   "source": []
  }
 ],
 "metadata": {
  "kernelspec": {
   "display_name": "Python 3",
   "language": "python",
   "name": "python3"
  },
  "language_info": {
   "codemirror_mode": {
    "name": "ipython",
    "version": 3
   },
   "file_extension": ".py",
   "mimetype": "text/x-python",
   "name": "python",
   "nbconvert_exporter": "python",
   "pygments_lexer": "ipython3",
   "version": "3.8.5"
  }
 },
 "nbformat": 4,
 "nbformat_minor": 5
}
